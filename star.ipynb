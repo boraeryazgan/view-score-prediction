{
 "cells": [
  {
   "cell_type": "code",
   "execution_count": 20,
   "metadata": {
    "collapsed": true,
    "ExecuteTime": {
     "end_time": "2023-07-04T09:33:50.500054Z",
     "start_time": "2023-07-04T09:33:50.457544Z"
    }
   },
   "outputs": [],
   "source": [
    "from transformers import AutoTokenizer, TFAutoModelForSequenceClassification\n",
    "import tensorflow as tf"
   ]
  },
  {
   "cell_type": "code",
   "execution_count": 21,
   "outputs": [
    {
     "name": "stderr",
     "output_type": "stream",
     "text": [
      "Some layers from the model checkpoint at nlptown/bert-base-multilingual-uncased-sentiment were not used when initializing TFBertForSequenceClassification: ['dropout_37']\n",
      "- This IS expected if you are initializing TFBertForSequenceClassification from the checkpoint of a model trained on another task or with another architecture (e.g. initializing a BertForSequenceClassification model from a BertForPreTraining model).\n",
      "- This IS NOT expected if you are initializing TFBertForSequenceClassification from the checkpoint of a model that you expect to be exactly identical (initializing a BertForSequenceClassification model from a BertForSequenceClassification model).\n",
      "All the layers of TFBertForSequenceClassification were initialized from the model checkpoint at nlptown/bert-base-multilingual-uncased-sentiment.\n",
      "If your task is similar to the task the model of the checkpoint was trained on, you can already use TFBertForSequenceClassification for predictions without further training.\n"
     ]
    }
   ],
   "source": [
    "tokenizer = AutoTokenizer.from_pretrained(\"nlptown/bert-base-multilingual-uncased-sentiment\")\n",
    "model = TFAutoModelForSequenceClassification.from_pretrained(\"nlptown/bert-base-multilingual-uncased-sentiment\")"
   ],
   "metadata": {
    "collapsed": false,
    "ExecuteTime": {
     "end_time": "2023-07-04T09:33:52.782573Z",
     "start_time": "2023-07-04T09:33:50.471459Z"
    }
   }
  },
  {
   "cell_type": "code",
   "execution_count": 22,
   "outputs": [],
   "source": [
    "tokens = tokenizer.encode(\"It was a terrible day.\",return_tensors=\"tf\")\n"
   ],
   "metadata": {
    "collapsed": false,
    "ExecuteTime": {
     "end_time": "2023-07-04T09:33:52.787269Z",
     "start_time": "2023-07-04T09:33:52.784652Z"
    }
   }
  },
  {
   "cell_type": "code",
   "execution_count": 23,
   "outputs": [
    {
     "data": {
      "text/plain": "TFSequenceClassifierOutput(loss=None, logits=<tf.Tensor: shape=(1, 5), dtype=float32, numpy=\narray([[ 2.9939466 ,  1.1758162 , -0.49353743, -2.0897737 , -1.4070722 ]],\n      dtype=float32)>, hidden_states=None, attentions=None)"
     },
     "execution_count": 23,
     "metadata": {},
     "output_type": "execute_result"
    }
   ],
   "source": [
    "outputs = model(tokens)\n",
    "outputs"
   ],
   "metadata": {
    "collapsed": false,
    "ExecuteTime": {
     "end_time": "2023-07-04T09:33:52.917005Z",
     "start_time": "2023-07-04T09:33:52.791141Z"
    }
   }
  },
  {
   "cell_type": "code",
   "execution_count": 24,
   "outputs": [
    {
     "data": {
      "text/plain": "<tf.Tensor: shape=(1, 5), dtype=float32, numpy=\narray([[ 2.9939466 ,  1.1758162 , -0.49353743, -2.0897737 , -1.4070722 ]],\n      dtype=float32)>"
     },
     "execution_count": 24,
     "metadata": {},
     "output_type": "execute_result"
    }
   ],
   "source": [
    "outputs.logits"
   ],
   "metadata": {
    "collapsed": false,
    "ExecuteTime": {
     "end_time": "2023-07-04T09:33:52.922398Z",
     "start_time": "2023-07-04T09:33:52.920114Z"
    }
   }
  },
  {
   "cell_type": "code",
   "execution_count": 25,
   "outputs": [
    {
     "data": {
      "text/plain": "1"
     },
     "execution_count": 25,
     "metadata": {},
     "output_type": "execute_result"
    }
   ],
   "source": [
    "int(tf.argmax(outputs.logits,axis=1))+1\n",
    "#Shows 1st which is 2.9939466"
   ],
   "metadata": {
    "collapsed": false,
    "ExecuteTime": {
     "end_time": "2023-07-04T09:33:52.926582Z",
     "start_time": "2023-07-04T09:33:52.924599Z"
    }
   }
  },
  {
   "cell_type": "code",
   "execution_count": 26,
   "outputs": [],
   "source": [
    "import requests\n",
    "from bs4 import BeautifulSoup\n",
    "import re"
   ],
   "metadata": {
    "collapsed": false,
    "ExecuteTime": {
     "end_time": "2023-07-04T09:33:52.930748Z",
     "start_time": "2023-07-04T09:33:52.928085Z"
    }
   }
  },
  {
   "cell_type": "code",
   "execution_count": 27,
   "outputs": [],
   "source": [
    "r = requests.get('https://www.yelp.com/biz/old-ottoman-cafe-ve-restaurant-istanbul')\n",
    "soup = BeautifulSoup(r.text,\"html.parser\")\n",
    "regex = re.compile(\".*comment.*\")\n",
    "results = soup.find_all(\"p\",{\"class\":regex})\n",
    "reviews = [result.text for result in results]"
   ],
   "metadata": {
    "collapsed": false,
    "ExecuteTime": {
     "end_time": "2023-07-04T09:33:57.741921Z",
     "start_time": "2023-07-04T09:33:52.933446Z"
    }
   }
  },
  {
   "cell_type": "code",
   "execution_count": 28,
   "outputs": [
    {
     "data": {
      "text/plain": "['best food experience in Istanbul, our host, Ali was very pro and kind. Food quality was out of this world. Ambiance was so calm and beautiful.I wish I could give them much more stars than 5. Oh, forgot to mention Turkish white wine was amazing',\n 'Good service. Good food. They have the clay pot dish. Really good Turkish rice. This is a place for tourists. Reasonable price for tourists.',\n 'We went here for lunch, the restaurant pretty empty but warm which were perfect for us. We ordered a claypot beef for one person, together with rice and breads definitely enough to feed the two of us along with babaganoush and olives.Would recommend the place! Price was ££',\n 'This restaurant was the first place a dined at upon arriving in Istanbul 3 weeks ago. I, unfortunately, cannot remember what we ordered, but, I can tell you we walked away stuffed and extremely satisfied with our meal. We ordered several items and shared it all. The wait staff was very friendly and we enjoyed the whole experience!',\n 'What an amazing treat. We stumbled on this gem 500 ft from our hotel in old town Istanbul. Very relaxing because of environment and their hospitable staff. Service was great and our dinner was stellar. Drinks, appetizers, salads, soup, main course and dessert for under $80 all inclusive. The dinner was a treat visually as it was prepared for us at our table in a clay pot over a huge flame ( see video ). Best meal we have had in over a week. We will be back again before we leave. Going to miss this gem. Buon Appetito',\n \"5/5 deservedly earned, if that's even the right thing to say. I was far too suspicious of the five stars in a foreign country but we were tired after a long, chilly day of walking around Istanbul and the Grand Bazaar. Old Ottoman cafe and restaurant did exactly what we were looking for - welcomed us with open arms and served us their homely, delicious Turkish food. They have a pretty standard menu that is served across nearly every restaurant in a touristy neighborhood but they do them all really well here. Right from their lentil soup to their dessert, every course was a gastronomical delight. We got their lentil soup and mezze platter to begin with. For the entree, I got the chicken in a clay pot which is an experience. It takes about 15-20 minutes for them to prep this order so be prepared to wait, but it's worth it. It is diced chicken stew cooked in a blend of veggies, spices, apricots and walnuts in an amphora style clay pot cooked over hot coals. The clay pot comes to your table in all its celebratory glory, they break it skillfully at the bottom and plate it. I can wax lyrical about the dish because the taste and textures were poetic. The slight sweetness of the apricot and crunch of the walnuts danced stupendously with the oregano and ottoman spice laden veggies and chicken. It's what I'd like to imagine people ate during the Ottoman Empire when they weren't raging battles and writing beautiful Sufi poetry. Right as the haze of a food coma was setting in on us, they decide to indulge us further by giving us a dessert on the house. The semolina halva was warm on the outside encasing a dollop of vanilla ice cream and finished off with a drizzle of chocolate sauce. The staff was incredibly kind to us the entire time making our experience a memorable one. I simply cannot recommend Old Ottoman Cafe and Restaurant highly enough. Do yourself a huge favor and dine here if you are in the area, the city or heck, anywhere in the country.\",\n \"Excellent, thoughtful service. It is a more touristic area but the fact that the dishes were quite different from regular fare made the prices feel ok. Our waiter went above and beyond when they were sadly out of our initial appetizer order. Super hospitable.The two entrees we ordered:- Dough wrapped shredded goose. Old banquet recipe from centuries ago that still holds up today (they don't always!). Dough was delicate and light, goose was moist, and the little bit of rice and fruit inside was a nice touch to keep the meat from feeling too heavy. On the salty side.- Apple stuffed with meat. The lighter of the two dishes. I liked how the tart apple was able to balance out the goose dish as well as its own.\",\n 'Great food and wine. \\xa0We had amazing service. Easy location. I Would highly recommend !',\n \"Excellent food and service. It's a must try. The ambience was also great. We really enjoyed The testy kebab and shuji halwa.\",\n 'Nice food good service and love the outside sitting. \\xa0Would recommend to anyone nearby']"
     },
     "execution_count": 28,
     "metadata": {},
     "output_type": "execute_result"
    }
   ],
   "source": [
    "reviews"
   ],
   "metadata": {
    "collapsed": false,
    "ExecuteTime": {
     "end_time": "2023-07-04T09:33:57.745769Z",
     "start_time": "2023-07-04T09:33:57.743256Z"
    }
   }
  },
  {
   "cell_type": "code",
   "execution_count": 29,
   "outputs": [],
   "source": [
    "import numpy as np\n",
    "import pandas as pd"
   ],
   "metadata": {
    "collapsed": false,
    "ExecuteTime": {
     "end_time": "2023-07-04T09:33:57.748660Z",
     "start_time": "2023-07-04T09:33:57.747310Z"
    }
   }
  },
  {
   "cell_type": "code",
   "execution_count": 30,
   "outputs": [],
   "source": [
    "df = pd.DataFrame(np.array(reviews),columns=[\"review\"])"
   ],
   "metadata": {
    "collapsed": false,
    "ExecuteTime": {
     "end_time": "2023-07-04T09:33:57.752508Z",
     "start_time": "2023-07-04T09:33:57.751564Z"
    }
   }
  },
  {
   "cell_type": "code",
   "execution_count": 31,
   "outputs": [
    {
     "data": {
      "text/plain": "'Good service. Good food. They have the clay pot dish. Really good Turkish rice. This is a place for tourists. Reasonable price for tourists.'"
     },
     "execution_count": 31,
     "metadata": {},
     "output_type": "execute_result"
    }
   ],
   "source": [
    "df[\"review\"].iloc[1]"
   ],
   "metadata": {
    "collapsed": false,
    "ExecuteTime": {
     "end_time": "2023-07-04T09:33:57.758337Z",
     "start_time": "2023-07-04T09:33:57.755734Z"
    }
   }
  },
  {
   "cell_type": "code",
   "execution_count": 32,
   "outputs": [],
   "source": [
    "def score(review):\n",
    "    tokens = tokenizer.encode(review,return_tensors=\"tf\")\n",
    "    outputs = model(tokens)\n",
    "    outputs.logits\n",
    "    return int(tf.argmax(outputs.logits,axis=1))+1"
   ],
   "metadata": {
    "collapsed": false,
    "ExecuteTime": {
     "end_time": "2023-07-04T09:33:57.763439Z",
     "start_time": "2023-07-04T09:33:57.762245Z"
    }
   }
  },
  {
   "cell_type": "code",
   "execution_count": 33,
   "outputs": [],
   "source": [
    "df['Score'] = df['review'].apply(lambda x: score(x[:512]))\n"
   ],
   "metadata": {
    "collapsed": false,
    "ExecuteTime": {
     "end_time": "2023-07-04T09:33:58.683075Z",
     "start_time": "2023-07-04T09:33:57.765146Z"
    }
   }
  },
  {
   "cell_type": "code",
   "execution_count": 34,
   "outputs": [
    {
     "data": {
      "text/plain": "10"
     },
     "execution_count": 34,
     "metadata": {},
     "output_type": "execute_result"
    }
   ],
   "source": [
    "len(df)"
   ],
   "metadata": {
    "collapsed": false,
    "ExecuteTime": {
     "end_time": "2023-07-04T09:33:58.686624Z",
     "start_time": "2023-07-04T09:33:58.684918Z"
    }
   }
  },
  {
   "cell_type": "code",
   "execution_count": 35,
   "outputs": [],
   "source": [
    "# In order to show to model's accurate adding mock data using GPT-3\n",
    "mockdata = [\n",
    "    'The food was amazing and the service was top-notch!',\n",
    "    'The restaurant had great ambiance, but the food was just okay.',\n",
    "    'The food was delicious, but the service needs improvement.',\n",
    "    'The staff was friendly and attentive, making our experience enjoyable.',\n",
    "    'The dishes were subpar and overpriced, not worth the visit.',\n",
    "    'The restaurant had a cozy atmosphere, perfect for a date night.',\n",
    "    'The food was outstanding, and the presentation was impressive.',\n",
    "    'The service was slow and the staff seemed disorganized.',\n",
    "    'The restaurant offers a wide variety of dishes to suit every palate.',\n",
    "    'The food was fresh and flavorful, exceeding our expectations.',\n",
    "    'The portions were small, leaving us unsatisfied.',\n",
    "    'The waitstaff was knowledgeable and made excellent recommendations.',\n",
    "    'The restaurant has a great view, perfect for special occasions.',\n",
    "    'The food was undercooked and the flavors were bland.',\n",
    "    'The prices were reasonable, considering the quality of the food.',\n",
    "    'The service was prompt and efficient, ensuring a smooth dining experience.',\n",
    "    'The restaurant was crowded, leading to longer wait times.',\n",
    "    'The menu lacked vegetarian options, limiting choices for some guests.',\n",
    "    'The desserts were delectable and the perfect ending to our meal.',\n",
    "    'The staff went above and beyond to accommodate our dietary restrictions.',\n",
    "    'The food was disappointing, and we left unsatisfied.',\n",
    "    'The atmosphere was lively and energetic, adding to the dining experience.',\n",
    "    'The restaurant had a unique and creative menu, offering something new.',\n",
    "    'The service was friendly and attentive, making us feel welcomed.',\n",
    "    'The flavors were well-balanced, and the dishes were beautifully presented.',\n",
    "    'The restaurant had a warm and inviting ambiance, perfect for a relaxed meal.',\n",
    "    'The food was mediocre, not living up to the hype.',\n",
    "    'The portions were generous, leaving us feeling satisfied and content.',\n",
    "    'The staff was unprofessional and inattentive, negatively impacting our visit.',\n",
    "    'The restaurant had a diverse wine selection, complementing the meal perfectly.',\n",
    "]\n",
    "dfmock = pd.DataFrame(mockdata,columns=[\"review\"])\n",
    "dfmock['Score'] = dfmock['review'].apply(lambda x: score(x[:512]))\n"
   ],
   "metadata": {
    "collapsed": false,
    "ExecuteTime": {
     "end_time": "2023-07-04T09:34:02.610174Z",
     "start_time": "2023-07-04T09:33:58.691850Z"
    }
   }
  },
  {
   "cell_type": "code",
   "execution_count": 36,
   "outputs": [
    {
     "data": {
      "text/plain": "                                               review  Score\n0   The food was amazing and the service was top-n...      5\n1   The restaurant had great ambiance, but the foo...      3\n2   The food was delicious, but the service needs ...      3\n3   The staff was friendly and attentive, making o...      4\n4   The dishes were subpar and overpriced, not wor...      2\n5   The restaurant had a cozy atmosphere, perfect ...      4\n6   The food was outstanding, and the presentation...      5\n7   The service was slow and the staff seemed diso...      2\n8   The restaurant offers a wide variety of dishes...      5\n9   The food was fresh and flavorful, exceeding ou...      5\n10   The portions were small, leaving us unsatisfied.      2\n11  The waitstaff was knowledgeable and made excel...      5\n12  The restaurant has a great view, perfect for s...      5\n13  The food was undercooked and the flavors were ...      2\n14  The prices were reasonable, considering the qu...      3\n15  The service was prompt and efficient, ensuring...      5\n16  The restaurant was crowded, leading to longer ...      2\n17  The menu lacked vegetarian options, limiting c...      2\n18  The desserts were delectable and the perfect e...      5\n19  The staff went above and beyond to accommodate...      5\n20  The food was disappointing, and we left unsati...      2\n21  The atmosphere was lively and energetic, addin...      4\n22  The restaurant had a unique and creative menu,...      4\n23  The service was friendly and attentive, making...      5\n24  The flavors were well-balanced, and the dishes...      5\n25  The restaurant had a warm and inviting ambianc...      5\n26  The food was mediocre, not living up to the hype.      2\n27  The portions were generous, leaving us feeling...      4\n28  The staff was unprofessional and inattentive, ...      1\n29  The restaurant had a diverse wine selection, c...      5",
      "text/html": "<div>\n<style scoped>\n    .dataframe tbody tr th:only-of-type {\n        vertical-align: middle;\n    }\n\n    .dataframe tbody tr th {\n        vertical-align: top;\n    }\n\n    .dataframe thead th {\n        text-align: right;\n    }\n</style>\n<table border=\"1\" class=\"dataframe\">\n  <thead>\n    <tr style=\"text-align: right;\">\n      <th></th>\n      <th>review</th>\n      <th>Score</th>\n    </tr>\n  </thead>\n  <tbody>\n    <tr>\n      <th>0</th>\n      <td>The food was amazing and the service was top-n...</td>\n      <td>5</td>\n    </tr>\n    <tr>\n      <th>1</th>\n      <td>The restaurant had great ambiance, but the foo...</td>\n      <td>3</td>\n    </tr>\n    <tr>\n      <th>2</th>\n      <td>The food was delicious, but the service needs ...</td>\n      <td>3</td>\n    </tr>\n    <tr>\n      <th>3</th>\n      <td>The staff was friendly and attentive, making o...</td>\n      <td>4</td>\n    </tr>\n    <tr>\n      <th>4</th>\n      <td>The dishes were subpar and overpriced, not wor...</td>\n      <td>2</td>\n    </tr>\n    <tr>\n      <th>5</th>\n      <td>The restaurant had a cozy atmosphere, perfect ...</td>\n      <td>4</td>\n    </tr>\n    <tr>\n      <th>6</th>\n      <td>The food was outstanding, and the presentation...</td>\n      <td>5</td>\n    </tr>\n    <tr>\n      <th>7</th>\n      <td>The service was slow and the staff seemed diso...</td>\n      <td>2</td>\n    </tr>\n    <tr>\n      <th>8</th>\n      <td>The restaurant offers a wide variety of dishes...</td>\n      <td>5</td>\n    </tr>\n    <tr>\n      <th>9</th>\n      <td>The food was fresh and flavorful, exceeding ou...</td>\n      <td>5</td>\n    </tr>\n    <tr>\n      <th>10</th>\n      <td>The portions were small, leaving us unsatisfied.</td>\n      <td>2</td>\n    </tr>\n    <tr>\n      <th>11</th>\n      <td>The waitstaff was knowledgeable and made excel...</td>\n      <td>5</td>\n    </tr>\n    <tr>\n      <th>12</th>\n      <td>The restaurant has a great view, perfect for s...</td>\n      <td>5</td>\n    </tr>\n    <tr>\n      <th>13</th>\n      <td>The food was undercooked and the flavors were ...</td>\n      <td>2</td>\n    </tr>\n    <tr>\n      <th>14</th>\n      <td>The prices were reasonable, considering the qu...</td>\n      <td>3</td>\n    </tr>\n    <tr>\n      <th>15</th>\n      <td>The service was prompt and efficient, ensuring...</td>\n      <td>5</td>\n    </tr>\n    <tr>\n      <th>16</th>\n      <td>The restaurant was crowded, leading to longer ...</td>\n      <td>2</td>\n    </tr>\n    <tr>\n      <th>17</th>\n      <td>The menu lacked vegetarian options, limiting c...</td>\n      <td>2</td>\n    </tr>\n    <tr>\n      <th>18</th>\n      <td>The desserts were delectable and the perfect e...</td>\n      <td>5</td>\n    </tr>\n    <tr>\n      <th>19</th>\n      <td>The staff went above and beyond to accommodate...</td>\n      <td>5</td>\n    </tr>\n    <tr>\n      <th>20</th>\n      <td>The food was disappointing, and we left unsati...</td>\n      <td>2</td>\n    </tr>\n    <tr>\n      <th>21</th>\n      <td>The atmosphere was lively and energetic, addin...</td>\n      <td>4</td>\n    </tr>\n    <tr>\n      <th>22</th>\n      <td>The restaurant had a unique and creative menu,...</td>\n      <td>4</td>\n    </tr>\n    <tr>\n      <th>23</th>\n      <td>The service was friendly and attentive, making...</td>\n      <td>5</td>\n    </tr>\n    <tr>\n      <th>24</th>\n      <td>The flavors were well-balanced, and the dishes...</td>\n      <td>5</td>\n    </tr>\n    <tr>\n      <th>25</th>\n      <td>The restaurant had a warm and inviting ambianc...</td>\n      <td>5</td>\n    </tr>\n    <tr>\n      <th>26</th>\n      <td>The food was mediocre, not living up to the hype.</td>\n      <td>2</td>\n    </tr>\n    <tr>\n      <th>27</th>\n      <td>The portions were generous, leaving us feeling...</td>\n      <td>4</td>\n    </tr>\n    <tr>\n      <th>28</th>\n      <td>The staff was unprofessional and inattentive, ...</td>\n      <td>1</td>\n    </tr>\n    <tr>\n      <th>29</th>\n      <td>The restaurant had a diverse wine selection, c...</td>\n      <td>5</td>\n    </tr>\n  </tbody>\n</table>\n</div>"
     },
     "execution_count": 36,
     "metadata": {},
     "output_type": "execute_result"
    }
   ],
   "source": [
    "dfmock"
   ],
   "metadata": {
    "collapsed": false,
    "ExecuteTime": {
     "end_time": "2023-07-04T09:34:07.364119Z",
     "start_time": "2023-07-04T09:34:07.351846Z"
    }
   }
  },
  {
   "cell_type": "code",
   "execution_count": null,
   "outputs": [],
   "source": [],
   "metadata": {
    "collapsed": false
   }
  }
 ],
 "metadata": {
  "kernelspec": {
   "display_name": "Python 3",
   "language": "python",
   "name": "python3"
  },
  "language_info": {
   "codemirror_mode": {
    "name": "ipython",
    "version": 2
   },
   "file_extension": ".py",
   "mimetype": "text/x-python",
   "name": "python",
   "nbconvert_exporter": "python",
   "pygments_lexer": "ipython2",
   "version": "2.7.6"
  }
 },
 "nbformat": 4,
 "nbformat_minor": 0
}
